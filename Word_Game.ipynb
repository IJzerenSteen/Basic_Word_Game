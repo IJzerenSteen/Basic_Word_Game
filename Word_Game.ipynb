{
 "cells": [
  {
   "cell_type": "code",
   "execution_count": null,
   "metadata": {},
   "outputs": [],
   "source": [
    "import time \n",
    "\n",
    "def word():\n",
    "    \n",
    "    \"\"\"\"This a basic word game that the last letter of your word \n",
    "    should be the same as the first letter of your new word. \"\"\"\n",
    "\n",
    "    \n",
    "    player_word=input(\"Pls, write a word. ---->    \")\n",
    "    player_word2=input(\"Pls, write a word. ---->    \")\n",
    "    \n",
    "    count=0\n",
    "    \n",
    "    while True:\n",
    "        \n",
    "        if player_word[-1] == player_word2[0]:\n",
    "            player_word=input((len(player_word2)*\" \") + \"Pls, write a word. ---->      \")\n",
    "            count=count+1\n",
    "            \n",
    "        else:\n",
    "            time.sleep(2)\n",
    "            print(f\"Game Over! Your score is {count}.\")\n",
    "            word()\n",
    "        \n",
    "        \n",
    "        if player_word2[-1] == player_word[0]:\n",
    "            player_word2=input(\"Pls, write a word. ---->    \")\n",
    "            count=count+1\n",
    "            \n",
    "        else:\n",
    "            time.sleep(2)\n",
    "            print(f\"Game Over! Your score is {count}.\")\n",
    "            word()\n",
    "            \n",
    "word()"
   ]
  }
 ],
 "metadata": {
  "kernelspec": {
   "display_name": "Python 3",
   "language": "python",
   "name": "python3"
  },
  "language_info": {
   "codemirror_mode": {
    "name": "ipython",
    "version": 3
   },
   "file_extension": ".py",
   "mimetype": "text/x-python",
   "name": "python",
   "nbconvert_exporter": "python",
   "pygments_lexer": "ipython3",
   "version": "3.7.3"
  }
 },
 "nbformat": 4,
 "nbformat_minor": 2
}
